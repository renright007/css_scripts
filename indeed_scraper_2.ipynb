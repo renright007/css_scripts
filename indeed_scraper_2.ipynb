{
 "cells": [
  {
   "cell_type": "code",
   "execution_count": 11,
   "metadata": {},
   "outputs": [],
   "source": [
    "from selenium import webdriver\n",
    "from selenium.webdriver.chrome.service import Service\n",
    "from selenium.webdriver.chrome.options import Options\n",
    "from webdriver_manager.chrome import ChromeDriverManager\n",
    "from selenium.webdriver.common.by import By\n",
    "from selenium.webdriver.support.ui import WebDriverWait\n",
    "from selenium.webdriver.support import expected_conditions as EC\n",
    "from selenium.common.exceptions import StaleElementReferenceException, TimeoutException\n",
    "import time"
   ]
  },
  {
   "cell_type": "code",
   "execution_count": 12,
   "metadata": {},
   "outputs": [],
   "source": [
    "chrome_driver_path = 'C:/Users/RobEnright/chromedriver.exe'"
   ]
  },
  {
   "cell_type": "code",
   "execution_count": 13,
   "metadata": {},
   "outputs": [],
   "source": [
    "# Set up Chrome options (optional)\n",
    "chrome_options = Options()\n",
    "#chrome_options.add_argument(\"--headless\")  # Run in headless mode (no GUI)\n",
    "chrome_options.add_argument(\"--start-maximized\")\n"
   ]
  },
  {
   "cell_type": "code",
   "execution_count": 14,
   "metadata": {},
   "outputs": [],
   "source": [
    "# Set up ChromeDriver\n",
    "service = Service(ChromeDriverManager().install())\n",
    "driver = webdriver.Chrome(service=service, options=chrome_options)"
   ]
  },
  {
   "cell_type": "code",
   "execution_count": 15,
   "metadata": {},
   "outputs": [],
   "source": [
    "# Open a website\n",
    "driver.get(\"https://ca.indeed.com/jobs?q=software+developer&l=Vancouver%2C+BC&from=searchOnHP\")\n",
    "\n",
    "# Print the title of the page\n",
    "#print(driver.title)"
   ]
  },
  {
   "cell_type": "code",
   "execution_count": 16,
   "metadata": {},
   "outputs": [
    {
     "data": {
      "text/plain": [
       "<selenium.webdriver.remote.webelement.WebElement (session=\"bbdf1cdd4e551b44770e1edbaa3ef1ff\", element=\"f.EA67469EBB6B6ACD7AD3F1D958402498.d.CE09DC752CE5FE4D0686FEE299AAF112.e.22\")>"
      ]
     },
     "execution_count": 16,
     "metadata": {},
     "output_type": "execute_result"
    }
   ],
   "source": [
    "# Locate the element using the provided XPath\n",
    "first_tile = WebDriverWait(driver, 10).until(EC.presence_of_element_located((By.ID, \"mosaic-provider-jobcards\")))\n",
    "\n",
    "first_tile"
   ]
  },
  {
   "cell_type": "code",
   "execution_count": 17,
   "metadata": {},
   "outputs": [],
   "source": [
    "# Find all <a> tags which contain hyperlinks\n",
    "links = first_tile.find_elements(By.TAG_NAME, 'a')#for elem in elems:\n",
    "\n",
    "# Extract the href attribute from each link\n",
    "hyperlinks = [link.get_attribute(\"href\") for link in links if link.get_attribute(\"href\") is not None]\n"
   ]
  },
  {
   "cell_type": "code",
   "execution_count": 18,
   "metadata": {},
   "outputs": [],
   "source": [
    "job_urls = []\n",
    "\n",
    "# Print or process the hrefs\n",
    "for hlink in hyperlinks:\n",
    "    if 'clk?jk' in hlink:\n",
    "        job_urls.append(hlink)"
   ]
  },
  {
   "cell_type": "code",
   "execution_count": 19,
   "metadata": {},
   "outputs": [
    {
     "data": {
      "text/plain": [
       "['https://ca.indeed.com/rc/clk?jk=2d93e53c6290e161&bb=RuiZyQTc7wIeVaiOOObDnx1OODiaH2b6swRqJWvgzR4PI-9aTTiGBJPdtyrUhwxM9JMU7v0W2vhIYE3zbPjB6apc1i3z_Z35Q8NH9wosetRbzXIcNhLieA%3D%3D&xkcb=SoDS67M399ehcAxXYB0KbzkdCdPP&fccid=734cb5a01ee60f80&vjs=3',\n",
       " 'https://ca.indeed.com/rc/clk?jk=bb01c33b9852ac89&bb=RuiZyQTc7wIeVaiOOObDn3_qO7oxbN2W_Cl0pro4PtbE3NILjhJ-1yoHFTn9Tu7rrVu-RExTZnpqHUH7_MPVtGhzwarx1-xwiDI9Kf8GmewhtPm9H4n1Gw%3D%3D&xkcb=SoD767M399ehcAxXYB0IbzkdCdPP&fccid=edae4285faf6c2f0&vjs=3',\n",
       " 'https://ca.indeed.com/rc/clk?jk=9ce035772af131ad&bb=RuiZyQTc7wIeVaiOOObDn2pLnBOmhHFIgzOgNl-8-Z3UgsuW8a1Lr4tWGuI3yKCLrDwX9GpnwImz5P9koBqvY5gDfJRx9YF-jaCnWeteSphWAUWiRaF3KQ%3D%3D&xkcb=SoB167M399ehcAxXYB0PbzkdCdPP&fccid=734cb5a01ee60f80&vjs=3',\n",
       " 'https://ca.indeed.com/rc/clk?jk=20d37f010faa56de&bb=RuiZyQTc7wIeVaiOOObDnze8TEs67SM5S8Ie99hy9R-At3VUMNsZ9ZyGNVVch2YoEmJdk80QMjt8hZGMtYiNmOQWWvKeJTNaQaHYKELy3OAk7w8Jvu-hRwO59mob4gpo&xkcb=SoDB67M399ehcAxXYB0ObzkdCdPP&fccid=01ecb1edcb54fdce&cmp=PhoneBox&ti=Back+End+Developer&vjs=3',\n",
       " 'https://ca.indeed.com/rc/clk?jk=3edab77b97619063&bb=RuiZyQTc7wIeVaiOOObDnz5yQcUvqUzQX3dEqoZNcoevSrV7N6ZxOWVcdGJqhMdlKv-K8nMZPdKffLBDIUaGagM8bhOIgodIj4DnEVkDQ1kMivLmVgR8NQ%3D%3D&xkcb=SoDo67M399ehcAxXYB0MbzkdCdPP&fccid=734cb5a01ee60f80&vjs=3',\n",
       " 'https://ca.indeed.com/rc/clk?jk=e3d850f55c45e05e&bb=RuiZyQTc7wIeVaiOOObDn4yfJV82yUMjkfj75ITWOZK9VEAlgZ3IU1vQo4F9ErEX79Kf76nzOYeL1pa5f_qdYsUOYWiPHbrAMErNfjhLn4kN0WXaMzTrz-H2zSJFSmzA&xkcb=SoAB67M399ehcAxXYB0DbzkdCdPP&fccid=be79c378a31bc528&vjs=3',\n",
       " 'https://ca.indeed.com/rc/clk?jk=50809e51a6d7970d&bb=RuiZyQTc7wIeVaiOOObDn5L4zva_G7e9WWnh9H-sOlnIad5a0OfZIlZlSWM70yXNlcMfK5lMFPH1C083EIhX-v_I55ma9xVfv_u8tkMtZcc_Aqf_Yx4sIzQ0DrZ4aAh4&xkcb=SoC167M399ehcAxXYB0CbzkdCdPP&fccid=8c3df6fd9db354cb&vjs=3',\n",
       " 'https://ca.indeed.com/rc/clk?jk=4e99e43e7c9869d0&bb=RuiZyQTc7wIeVaiOOObDn4mdQ2ZvtuqakKCdc1sdx9_dM0DT3_a9-Oo841FfWtBllXjBNYJZDoGqWk4Vc0G0jpGM9N4fEZ10jfxwLAsA6gyNZGCPkqc0qz2hgCh4FJeQ&xkcb=SoAo67M399ehcAxXYB0BbzkdCdPP&fccid=901337852c4e0e82&vjs=3',\n",
       " 'https://ca.indeed.com/rc/clk?jk=5ff70f1fccca1924&bb=RuiZyQTc7wIeVaiOOObDn39RFMW2dLhNmoXNDJVcrzjqt5LVgLdoR0E4AWJXS01ZWW2bfRBWR7i77YRK2decxac5dYrSlmhZQorjPZ1p3W4UeuJvsFJrgLvs85z7nxu4&xkcb=SoCc67M399ehcAxXYB0AbzkdCdPP&fccid=7bcc6e90bcef893c&vjs=3',\n",
       " 'https://ca.indeed.com/rc/clk?jk=d97f195bd2d45e48&bb=RuiZyQTc7wIeVaiOOObDn6EJT-ep4RQxBNUoORc4IB1WlP_NHqBxsXxGr5Eu_ZYR4eSPwALULiej4_Y81ZGlD5Zt95kObVyEocxCMDdejqjP8YdRACcCRwA-YqznC9Mh&xkcb=SoAS67M399ehcAxXYB0HbzkdCdPP&fccid=2590d2b9de973e1e&vjs=3',\n",
       " 'https://ca.indeed.com/rc/clk?jk=70a4859db1281f2c&bb=RuiZyQTc7wIeVaiOOObDn39XRLXLu5D0rfGe06RGnGhRy5SxQdZ46Lxl8xzDexyBRy9WXvWpH68voq8F83eAf_YH-CcZMPxXvnH5NtPTnGMnsVTunzqjL7a_CSPV-L1p&xkcb=SoCm67M399ehcAxXYB0GbzkdCdPP&fccid=018dd7bf53c26d8a&vjs=3',\n",
       " 'https://ca.indeed.com/rc/clk?jk=b483f1a8e751422a&bb=RuiZyQTc7wIeVaiOOObDn1wMA-E_8wkFE4lM-5UcjY66j3Y-VbBKx4XmLGeK6SCpygESi_zRasgyuWFmhBkV8XL3DTG0cl1cc_Uktlyoj4tbrNRSMsGReGhKdzbcDS2x&xkcb=SoA767M399ehcAxXYB0FbzkdCdPP&fccid=b43afc08eead9ebd&vjs=3',\n",
       " 'https://ca.indeed.com/rc/clk?jk=2623d4ee9937b8a4&bb=RuiZyQTc7wIeVaiOOObDn4ihlGNzI1HbQ9UiM21CbTbwx9mq9bNLD0wM2s4qRWvN2tbNIap54xWc2_RS9tTGjotiJEOAnbbQGRTSMdH_jEEBhsROj92lMgDGY447Bb-SRxFPIb3Lhmc%3D&xkcb=SoCP67M399ehcAxXYB0EbzkdCdPP&fccid=d415dd26e99dfd2c&cmp=Skycope-Technologies-Inc&ti=R%26D+Engineer&vjs=3']"
      ]
     },
     "execution_count": 19,
     "metadata": {},
     "output_type": "execute_result"
    }
   ],
   "source": [
    "job_urls"
   ]
  },
  {
   "cell_type": "code",
   "execution_count": 20,
   "metadata": {},
   "outputs": [],
   "source": [
    "driver.get(job_urls[0])\n",
    "page_html = driver.page_source"
   ]
  },
  {
   "cell_type": "code",
   "execution_count": null,
   "metadata": {},
   "outputs": [],
   "source": [
    "from bs4 import BeautifulSoup\n",
    "import json"
   ]
  },
  {
   "cell_type": "code",
   "execution_count": null,
   "metadata": {},
   "outputs": [],
   "source": [
    "soup = BeautifulSoup(page_html, 'html.parser')"
   ]
  },
  {
   "cell_type": "code",
   "execution_count": 13,
   "metadata": {},
   "outputs": [],
   "source": [
    "# Extract job title\n",
    "job_title = soup.find('h1', class_='jobsearch-JobInfoHeader-title').text.strip()\n",
    "# Extract Company Details\n",
    "company = soup.find('div', class_='css-hon9z8 eu4oa1w0')\n",
    "# Pull Company Name\n",
    "company_name = company.text\n",
    "# Pull Company Hyperlink\n",
    "company_link = company.find('a', href=True).get('href')\n",
    "\n",
    "# Extract Job Details\n",
    "job_details = soup.find('div', class_='js-match-insights-provider-kyg8or eu4oa1w0')\n",
    "# Extract Pay Details\n",
    "pay_section = job_details.find('div', {'aria-label': 'Pay'})\n",
    "pay = pay_section.find('div', {'data-testid': True}).text if pay_section else \"Pay not found\"\n",
    "# Extract Job type information\n",
    "job_type_section = job_details.find('div', {'aria-label': 'Job type'})\n",
    "job_type = [li.text for li in job_type_section.find_all('li', {'data-testid': True})] if job_type_section else \"Job type not found\"\n",
    "\n",
    "# Extract job location\n",
    "job_location = soup.find('div', class_='css-45str8 eu4oa1w0').text.strip()\n",
    "# Extract job description\n",
    "job_description = soup.find('div', class_='jobsearch-JobComponent-description css-16y4thd eu4oa1w0').text.strip()\n"
   ]
  },
  {
   "cell_type": "code",
   "execution_count": 14,
   "metadata": {},
   "outputs": [
    {
     "data": {
      "text/plain": [
       "{'Title': 'Software Engineer: Internship Opportunities, Vancouver, BC',\n",
       " 'Company': 'Microsoft',\n",
       " 'Company Link': 'https://ca.indeed.com/cmp/Microsoft?campaignid=mobvjcmp&from=mobviewjob&tk=1i5s5sgp3jdok803&fromjk=9ce035772af131ad',\n",
       " 'Pay Details': '$5,400–$5,700 a month',\n",
       " 'Job Type': 'Job type not found',\n",
       " 'Location': 'Vancouver, BC',\n",
       " 'Description': 'Come build community, explore your passions and do your best work at Microsoft with thousands of University interns from every corner of the world. This opportunity will allow you to bring your aspirations, talent, potential—and excitement for the journey ahead.\\n \\n\\n\\n As a Software Engineering Intern, you will work with teammates to solve problems and build innovative software solutions. You will apply your passion for customers and product quality as you provide technical guidance to Technical Program Managers and Product Managers. You will learn and adopt relevant new technologies, tools, methods, and processes to leverage in your solutions. This opportunity will enable you to advance your career by designing, developing, and testing next-generation software that will empower every person and organization on the planet to achieve more.\\n \\n\\n\\n At Microsoft, Interns work on real-world projects in collaboration with teams across the world, while having fun along the way. You’ll be empowered to build community, explore your passions and achieve your goals. This is your chance to bring your solutions and ideas to life while working on cutting-edge technology.\\n \\n\\n\\n Microsoft’s mission is to empower every person and every organization on the planet to achieve more. As employees we come together with a growth mindset, innovate to empower others, and collaborate to realize our shared goals. Each day we build on our values of respect, integrity, and accountability to create a culture of inclusion where everyone can thrive at work and beyond.\\n \\n\\n\\n Please note this application is only for internships based in our Vancouver, Canada office.\\n\\n\\n\\n For internships in other offices, please see our Careers site.\\n\\n Responsibilities\\n\\nApplies engineering principles to solve complex problems through sound and creative engineering.\\nWorks with appropriate stakeholders to determine user requirements for a feature.\\nQuickly learns new engineering methods and incorporates them into work processes.\\nSeeks feedback and applies internal or industry best practices to improve technical solutions.\\nDemonstrates skill in time management and completing software projects in a cooperative team environment.\\nReviews current developments and proactively seeks new knowledge that will improve the availability, reliability, efficiency, observability, and performance of products while also driving consistency in monitoring and operations at scale.\\n\\n Qualifications\\n\\n Required/Minimum Qualifications\\n\\n\\nCurrently pursuing Bachelor’s or Master’s degree in Computer Science, Engineering, or related field.\\nMust have at least 1 semester/term remaining following the completion of the internship.\\nOne year of programming experience in an object-oriented language.\\n\\n\\n\\n Additional or Preferred Qualifications \\n\\n\\nAbility to demonstrate an understanding of computer science fundamentals, including data structures and algorithms.\\n\\n\\n  Intern - MS Vancouver- The typical base pay range for this role across Canada is CAD $5,400 - CAD $5,700 per month.\\n \\n\\n\\n Find additional pay information here:  https://careers.microsoft.com/v2/global/en/canada-pay-information.html  Microsoft accepts applications and processes offers for these roles on an ongoing basis throughout the academic calendar (August - April).\\n \\n Microsoft is an equal opportunity employer. Consistent with applicable law, all qualified applicants will receive consideration for employment without regard to age, ancestry, citizenship, color, family or medical care leave, gender identity or expression, genetic information, immigration status, marital status, medical condition, national origin, physical or mental disability, political affiliation, protected veteran or military status, race, ethnicity, religion, sex (including pregnancy), sexual orientation, or any other characteristic protected by applicable local laws, regulations and ordinances. If you need assistance and/or a reasonable accommodation due to a disability during the application process, read more about requesting accommodations.'}"
      ]
     },
     "execution_count": 14,
     "metadata": {},
     "output_type": "execute_result"
    }
   ],
   "source": [
    "job_dict = {\n",
    "    'Title':job_title,\n",
    "    'Company':company_name,\n",
    "    'Company Link':company_link,\n",
    "    'Pay Details':pay,\n",
    "    'Job Type':job_type,\n",
    "    'Location':job_location,\n",
    "    'Description':job_description,\n",
    "}\n",
    "\n",
    "job_dict"
   ]
  }
 ],
 "metadata": {
  "kernelspec": {
   "display_name": "base",
   "language": "python",
   "name": "python3"
  },
  "language_info": {
   "codemirror_mode": {
    "name": "ipython",
    "version": 3
   },
   "file_extension": ".py",
   "mimetype": "text/x-python",
   "name": "python",
   "nbconvert_exporter": "python",
   "pygments_lexer": "ipython3",
   "version": "3.12.4"
  }
 },
 "nbformat": 4,
 "nbformat_minor": 2
}
